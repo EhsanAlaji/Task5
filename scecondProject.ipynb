{
 "cells": [
  {
   "cell_type": "markdown",
   "id": "4b65bf8f",
   "metadata": {},
   "source": [
    "# Import libraries"
   ]
  },
  {
   "cell_type": "code",
   "execution_count": 49,
   "id": "e35c5a25",
   "metadata": {},
   "outputs": [],
   "source": [
    "import numpy as np #math\n",
    "import pandas as pd #files\n",
    "import matplotlib.pyplot as plt #grahp"
   ]
  },
  {
   "cell_type": "code",
   "execution_count": 50,
   "id": "db248d69",
   "metadata": {},
   "outputs": [
    {
     "name": "stdout",
     "output_type": "stream",
     "text": [
      "The number of features: 14\n"
     ]
    }
   ],
   "source": [
    "\n",
    "path=r'C:\\machine-learing\\data\\smoke_detection.txt'\n",
    "\n",
    "data = pd.read_csv(path)\n",
    "\n",
    "\n",
    "num_rows, num_cols = data.shape\n",
    "\n",
    "\n",
    "num_features = num_cols - 2 \n",
    "\n",
    "print('The number of features:',num_features)\n"
   ]
  },
  {
   "cell_type": "code",
   "execution_count": 51,
   "id": "5b5eb375",
   "metadata": {},
   "outputs": [
    {
     "name": "stdout",
     "output_type": "stream",
     "text": [
      "The number of: 62630\n"
     ]
    }
   ],
   "source": [
    "\n",
    "\n",
    "# Load data into a Pandas DataFrame\n",
    "df = pd.read_csv(path)\n",
    "\n",
    "# Get the number of rows in the DataFrame\n",
    "num_rows = df.shape[0]\n",
    "\n",
    "print('The number of:',num_rows)\n"
   ]
  },
  {
   "cell_type": "code",
   "execution_count": 52,
   "id": "f2427e65",
   "metadata": {},
   "outputs": [
    {
     "name": "stdout",
     "output_type": "stream",
     "text": [
      "         num  Temperature  Humidity  TVOC  eCO2  Raw_H2  Raw_Ethanol  \\\n",
      "0          0       20.000     57.36     0   400   12306        18520   \n",
      "1          1       20.015     56.67     0   400   12345        18651   \n",
      "2          2       20.029     55.96     0   400   12374        18764   \n",
      "3          3       20.044     55.28     0   400   12390        18849   \n",
      "4          4       20.059     54.69     0   400   12403        18921   \n",
      "...      ...          ...       ...   ...   ...     ...          ...   \n",
      "62625  62625       18.438     15.79   625   400   13723        20569   \n",
      "62626  62626       18.653     15.87   612   400   13731        20588   \n",
      "62627  62627       18.867     15.84   627   400   13725        20582   \n",
      "62628  62628       19.083     16.04   638   400   13712        20566   \n",
      "62629  62629       19.299     16.52   643   400   13696        20543   \n",
      "\n",
      "       Pressure   PM1   PM2   NC0    NC1    NC2   CNT  Fire_Alarm  \n",
      "0       939.735  0.00  0.00  0.00  0.000  0.000     0           0  \n",
      "1       939.744  0.00  0.00  0.00  0.000  0.000     1           0  \n",
      "2       939.738  0.00  0.00  0.00  0.000  0.000     2           0  \n",
      "3       939.736  0.00  0.00  0.00  0.000  0.000     3           0  \n",
      "4       939.744  0.00  0.00  0.00  0.000  0.000     4           0  \n",
      "...         ...   ...   ...   ...    ...    ...   ...         ...  \n",
      "62625   936.670  0.63  0.65  4.32  0.673  0.015  5739           0  \n",
      "62626   936.678  0.61  0.63  4.18  0.652  0.015  5740           0  \n",
      "62627   936.687  0.57  0.60  3.95  0.617  0.014  5741           0  \n",
      "62628   936.680  0.57  0.59  3.92  0.611  0.014  5742           0  \n",
      "62629   936.676  0.57  0.59  3.90  0.607  0.014  5743           0  \n",
      "\n",
      "[62630 rows x 15 columns]\n"
     ]
    }
   ],
   "source": [
    "df=data.drop(columns='UTC', inplace=True)\n",
    "\n",
    "print(data)\n"
   ]
  },
  {
   "cell_type": "code",
   "execution_count": null,
   "id": "b44d36f2",
   "metadata": {},
   "outputs": [],
   "source": []
  }
 ],
 "metadata": {
  "kernelspec": {
   "display_name": "Python 3 (ipykernel)",
   "language": "python",
   "name": "python3"
  },
  "language_info": {
   "codemirror_mode": {
    "name": "ipython",
    "version": 3
   },
   "file_extension": ".py",
   "mimetype": "text/x-python",
   "name": "python",
   "nbconvert_exporter": "python",
   "pygments_lexer": "ipython3",
   "version": "3.10.9"
  }
 },
 "nbformat": 4,
 "nbformat_minor": 5
}
